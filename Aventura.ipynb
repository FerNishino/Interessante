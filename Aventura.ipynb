{
  "nbformat": 4,
  "nbformat_minor": 0,
  "metadata": {
    "colab": {
      "provenance": [],
      "authorship_tag": "ABX9TyPwO8cuOInML8gEl9fXApiR",
      "include_colab_link": true
    },
    "kernelspec": {
      "name": "python3",
      "display_name": "Python 3"
    },
    "language_info": {
      "name": "python"
    }
  },
  "cells": [
    {
      "cell_type": "markdown",
      "metadata": {
        "id": "view-in-github",
        "colab_type": "text"
      },
      "source": [
        "<a href=\"https://colab.research.google.com/github/FerNishino/Interessante/blob/main/Aventura.ipynb\" target=\"_parent\"><img src=\"https://colab.research.google.com/assets/colab-badge.svg\" alt=\"Open In Colab\"/></a>"
      ]
    },
    {
      "cell_type": "code",
      "execution_count": null,
      "metadata": {
        "id": "Sl2BQTpB6GKE"
      },
      "outputs": [],
      "source": [
        "nome = input('Qual o seu nome?')\n",
        "print('Bem-vindo(a) a aventura,', nome)"
      ]
    },
    {
      "cell_type": "code",
      "source": [
        "pergunta = input('Você está em uma estrada de terra, chegou ao fim e você pode ir para a esquerda ou para a direita. Qual caminho você gostaria de ir (esquerda/direita?').lower()"
      ],
      "metadata": {
        "id": "r1P7o3U36Vwo"
      },
      "execution_count": null,
      "outputs": []
    },
    {
      "cell_type": "code",
      "source": [
        "if pergunta == 'direita':\n",
        "  pergunta = input('Você chega a um rio, pode caminhar ao redor dele ou nadar até lá? (nadar/caminhar)')\n",
        "\n",
        "  if pergunta == 'nadar':\n",
        "    print('Você nadou e foi devorado por um jacaré')\n",
        "  elif pergunta == 'caminhar':\n",
        "    print('Você andou em muitos quilômetros, ficou sem água e perdeu o jogo!')\n",
        "  else:\n",
        "    print('Não é válido, perdeu!')\n",
        "\n",
        "elif pergunta == 'esquerda':\n",
        "  pergunta = input('Você chega a uma ponte, ela parece vacilante, você quer atravessá-la ou voltar (cruzar/voltar)?')\n",
        "\n",
        "  if pergunta == 'voltar':\n",
        "    print('Você voltou perdido e perdeu!')\n",
        "  elif pergunta == 'cruzar':\n",
        "     pergunta = input('Você atravessa a ponte e encontra um estranho. Você fala com ele (sim/não)?')\n",
        "\n",
        "     if pergunta == 'sim':\n",
        "       print('Você falou com ele e o mesmo vai dar ouro para você, ganhou. Parabéns!')\n",
        "\n",
        "     elif pergunta == 'no':\n",
        "       print('Você ignorou ele, perdeu a oportunidade!')\n",
        "     \n",
        "     else:\n",
        "        print('Não é válido, perdeu!')\n",
        "\n",
        "  else:\n",
        "    print('Não é válido, perdeu!')\n",
        "\n",
        "else: \n",
        "  print('Não é válido, você perdeu!')\n",
        "\n",
        "print('Obrigado pela participação,', nome)"
      ],
      "metadata": {
        "id": "WiM-3V7m69l0"
      },
      "execution_count": null,
      "outputs": []
    }
  ]
}