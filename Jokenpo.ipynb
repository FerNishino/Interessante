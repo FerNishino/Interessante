{
  "nbformat": 4,
  "nbformat_minor": 0,
  "metadata": {
    "colab": {
      "provenance": [],
      "authorship_tag": "ABX9TyOGdYnJPM89nkTMwlo3IYGC",
      "include_colab_link": true
    },
    "kernelspec": {
      "name": "python3",
      "display_name": "Python 3"
    },
    "language_info": {
      "name": "python"
    }
  },
  "cells": [
    {
      "cell_type": "markdown",
      "metadata": {
        "id": "view-in-github",
        "colab_type": "text"
      },
      "source": [
        "<a href=\"https://colab.research.google.com/github/FerNishino/Interessante/blob/main/Jokenpo.ipynb\" target=\"_parent\"><img src=\"https://colab.research.google.com/assets/colab-badge.svg\" alt=\"Open In Colab\"/></a>"
      ]
    },
    {
      "cell_type": "code",
      "source": [
        "from random import randint\n",
        "\n",
        "def user_interface(options):\n",
        "\n",
        "    for index,option in enumerate(options):\n",
        "        print(f'{index} = {option}')\n",
        "\n",
        "    user_input = int(input('O que você escolhe? '))\n",
        "    return user_input\n",
        "\n",
        "\n",
        "def computer_choice(content):\n",
        "\n",
        "    computer_chose = randint(0,len(content)-1)\n",
        "    return computer_chose\n",
        "    \n",
        "\n",
        "def check_results(choices, player, computer):\n",
        "\n",
        "    if player == computer:\n",
        "        return 'Empate!'\n",
        "    elif (player == 0 and computer == len(choices)-1) or (player>computer and not(player==len(choices)-1 and computer==0)):\n",
        "        return 'Você ganhou'\n",
        "    return 'Você perdeu'\n",
        "\n",
        "\n",
        "def play():\n",
        "    print('''\n",
        "    ---------------------------------\n",
        "    Bem vindo ao Jokenpo, por favor escolhe a sua arma: Tesoura, Papel ou Pedra.\n",
        "    ''')\n",
        "\n",
        "    #define the options and ask contestants to pick one\n",
        "    options_list = ['Pedra', 'Papel' , 'Tesoura']\n",
        "    player_result = user_interface(options_list)\n",
        "    computer_result = computer_choice(options_list)\n",
        "    \n",
        "    #viusual representation in the terminal so we can see what both parties chose\n",
        "    print(f'  player chose: {options_list[player_result]}')\n",
        "    print(f'computer chose: {options_list[computer_result]}')\n",
        "\n",
        "    #check the results between the two and print the winner.\n",
        "    results = check_results(options_list,player_result,computer_result)\n",
        "    print (f'\\n{results}')\n",
        "\n",
        "def main():\n",
        "\n",
        "    #force the player into the play loop\n",
        "    play_again = ''\n",
        "    while play_again.lower() != 'n':\n",
        "        play()\n",
        "        print (f'Joga novamente? ')\n",
        "        play_again = input('type \\'s\\' for sim or \\'n\\' for não: ')\n",
        "\n",
        "main()"
      ],
      "metadata": {
        "id": "21PxPQIfV4yA",
        "colab": {
          "base_uri": "https://localhost:8080/"
        },
        "outputId": "aa09917b-3baf-405c-e09a-8588a6579223"
      },
      "execution_count": null,
      "outputs": [
        {
          "output_type": "stream",
          "name": "stdout",
          "text": [
            "\n",
            "    ---------------------------------\n",
            "    Bem vindo ao Jokenpo, por favor escolhe a sua arma: Tesoura, Papel ou Pedra.\n",
            "    \n",
            "0 = Pedra\n",
            "1 = Papel\n",
            "2 = Tesoura\n",
            "O que você escolhe? 2\n",
            "  player chose: Tesoura\n",
            "computer chose: Tesoura\n",
            "\n",
            "Empate!\n",
            "Joga novamente? \n",
            "type 's' for sim or 'n' for não: s\n",
            "\n",
            "    ---------------------------------\n",
            "    Bem vindo ao Jokenpo, por favor escolhe a sua arma: Tesoura, Papel ou Pedra.\n",
            "    \n",
            "0 = Pedra\n",
            "1 = Papel\n",
            "2 = Tesoura\n",
            "O que você escolhe? 0\n",
            "  player chose: Pedra\n",
            "computer chose: Tesoura\n",
            "\n",
            "Você ganhou\n",
            "Joga novamente? \n"
          ]
        }
      ]
    },
    {
      "cell_type": "code",
      "source": [],
      "metadata": {
        "id": "QJXIRT-jbnkq"
      },
      "execution_count": null,
      "outputs": []
    }
  ]
}