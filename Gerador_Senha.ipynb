{
  "nbformat": 4,
  "nbformat_minor": 0,
  "metadata": {
    "colab": {
      "provenance": [],
      "authorship_tag": "ABX9TyPBDn1ici8T8EWgtoffyZwR",
      "include_colab_link": true
    },
    "kernelspec": {
      "name": "python3",
      "display_name": "Python 3"
    },
    "language_info": {
      "name": "python"
    }
  },
  "cells": [
    {
      "cell_type": "markdown",
      "metadata": {
        "id": "view-in-github",
        "colab_type": "text"
      },
      "source": [
        "<a href=\"https://colab.research.google.com/github/FerNishino/Interessante/blob/main/Gerador_Senha.ipynb\" target=\"_parent\"><img src=\"https://colab.research.google.com/assets/colab-badge.svg\" alt=\"Open In Colab\"/></a>"
      ]
    },
    {
      "cell_type": "markdown",
      "source": [
        "Projeto - Gerador de Senha"
      ],
      "metadata": {
        "id": "ogkSthcA-TKy"
      }
    },
    {
      "cell_type": "code",
      "execution_count": 1,
      "metadata": {
        "id": "99-Qjt3x-O7I"
      },
      "outputs": [],
      "source": [
        "#importando as bibliotecas\n",
        "import random\n",
        "import string"
      ]
    },
    {
      "cell_type": "code",
      "source": [
        "def password_generator(len_pass = 8):\n",
        "  ascii_options = string.ascii_letters\n",
        "  number_options = string.digits\n",
        "  punt_options = string.punctuation\n",
        "  options = ascii_options + number_options + punt_options\n",
        "\n",
        "  usuario = \"\"\n",
        "\n",
        "  for i in range(0, len_pass):\n",
        "    digito = random.choice(options)\n",
        "    usuario = usuario + digito\n",
        "\n",
        "    return usuario\n",
        "\n",
        "choice_user = input('Quantos digitos na senha?')\n",
        "\n",
        "if choice_user.isdigit():\n",
        "  choice_user = int(choice_user)\n",
        "else:\n",
        "  print('Entrada inválida')\n",
        "  quit()\n",
        "\n",
        "password_generator(len_pass = choice_user)"
      ],
      "metadata": {
        "id": "6JsWvgtV-fvD"
      },
      "execution_count": null,
      "outputs": []
    },
    {
      "cell_type": "code",
      "source": [],
      "metadata": {
        "id": "NsxwzwHx--GE"
      },
      "execution_count": null,
      "outputs": []
    }
  ]
}